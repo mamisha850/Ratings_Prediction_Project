{
 "cells": [
  {
   "cell_type": "code",
   "execution_count": 1,
   "id": "34031dd2",
   "metadata": {},
   "outputs": [],
   "source": [
    "import selenium\n",
    "from selenium import webdriver\n",
    "from selenium .webdriver.common.by import By\n",
    "import pandas as pd\n",
    " \n",
    "import warnings \n",
    "warnings.filterwarnings(\"ignore\")"
   ]
  },
  {
   "cell_type": "code",
   "execution_count": 2,
   "id": "d7ec8045",
   "metadata": {},
   "outputs": [],
   "source": [
    "driver = webdriver.Chrome(r'C:\\Users\\Dell\\Downloads\\chromedriver_win32 (2)\\chromedriver.exe')\n",
    "\n",
    "url='https://www.flipkart.com/'\n",
    "driver.get(url)"
   ]
  },
  {
   "cell_type": "markdown",
   "id": "ddea2837",
   "metadata": {},
   "source": [
    "                                             Smartphone"
   ]
  },
  {
   "cell_type": "code",
   "execution_count": 3,
   "id": "b8a41957",
   "metadata": {},
   "outputs": [],
   "source": [
    "search=driver.find_element(By.CLASS_NAME,\"_3704LK\")\n",
    "search.send_keys(\"Smartphone\")\n",
    "\n",
    "search_button=driver.find_element(By.XPATH,'//button[@class=\"L0Z3Pu\"]')\n",
    "search_button.click()"
   ]
  },
  {
   "cell_type": "code",
   "execution_count": 5,
   "id": "ff5c8d75",
   "metadata": {},
   "outputs": [],
   "source": [
    "phone=driver.find_element(By.XPATH,'/html/body/div[1]/div/div[3]/div[1]/div[2]/div[2]/div/div/div/a/div[2]/div[1]/div[1]')\n",
    "phone.click()"
   ]
  },
  {
   "cell_type": "code",
   "execution_count": 6,
   "id": "abf7ba0f",
   "metadata": {},
   "outputs": [],
   "source": [
    "start=0\n",
    "end=283\n",
    "\n",
    "p1=[]\n",
    "p1.append('Phone')\n",
    "p1=p1*2547\n",
    "\n",
    "re1=[]\n",
    "for page in range(0,283):\n",
    "    re1_tag=driver.find_elements(By.XPATH,'//div[@class=\"t-ZTKy\"]')\n",
    "    for i in re1_tag:\n",
    "        re1.append(i.text)\n",
    "    next_button=driver.find_elements(By.XPATH,'/html/body/div/div/div[3]/div/div/div[2]/div[13]/div/div/nav/a[11]/span')\n",
    "\n",
    "ra1=[]\n",
    "for page in range(0,283):\n",
    "    ra1_tag=driver.find_elements(By.XPATH,'//div[@class=\"_3LWZlK _1BLPMq\"]')\n",
    "    for i in ra1_tag:\n",
    "        ra1.append(i.text)\n",
    "    next_button=driver.find_elements(By.XPATH,'/html/body/div/div/div[3]/div/div/div[2]/div[13]/div/div/nav/a[11]/span')"
   ]
  },
  {
   "cell_type": "markdown",
   "id": "f4e5a8fd",
   "metadata": {},
   "source": [
    "                                               Laptop"
   ]
  },
  {
   "cell_type": "code",
   "execution_count": 12,
   "id": "864b4799",
   "metadata": {},
   "outputs": [],
   "source": [
    "search=driver.find_element(By.CLASS_NAME,\"_3704LK\")\n",
    "search.send_keys(\"Laptop\")\n",
    "\n",
    "search_button=driver.find_element(By.XPATH,'//button[@class=\"L0Z3Pu\"]')\n",
    "search_button.click()"
   ]
  },
  {
   "cell_type": "code",
   "execution_count": 13,
   "id": "0a29adcc",
   "metadata": {},
   "outputs": [],
   "source": [
    "laptop=driver.find_element(By.XPATH,'/html/body/div[1]/div/div[3]/div[1]/div[2]/div[4]/div/div/div/a/div[3]/div[1]/div[1]')\n",
    "laptop.click()"
   ]
  },
  {
   "cell_type": "code",
   "execution_count": 14,
   "id": "2d02eff8",
   "metadata": {},
   "outputs": [],
   "source": [
    "start=0\n",
    "end=62\n",
    "\n",
    "p2=[]\n",
    "p2.append('Laptop')\n",
    "p2=p2*620\n",
    "\n",
    "re2=[]\n",
    "for page in range(0,62):\n",
    "    re2_tag=driver.find_elements(By.XPATH,'//div[@class=\"t-ZTKy\"]')\n",
    "    for i in re2_tag:\n",
    "        re2.append(i.text)\n",
    "    next_button=driver.find_elements(By.XPATH,'/html/body/div[1]/div/div[3]/div/div/div[2]/div[13]/div/div/nav/a[11]/span')\n",
    "\n",
    "ra2=[]\n",
    "for page in range(0,62):\n",
    "    ra2_tag=driver.find_elements(By.XPATH,'//div[@class=\"_3LWZlK _1BLPMq\"]')\n",
    "    for i in ra2_tag:\n",
    "        ra2.append(i.text)\n",
    "    next_button=driver.find_elements(By.XPATH,'/html/body/div[1]/div/div[3]/div/div/div[2]/div[13]/div/div/nav/a[11]/span')"
   ]
  },
  {
   "cell_type": "markdown",
   "id": "07ac3577",
   "metadata": {},
   "source": [
    "                                             Headphone"
   ]
  },
  {
   "cell_type": "code",
   "execution_count": 20,
   "id": "f2888d60",
   "metadata": {},
   "outputs": [],
   "source": [
    "search=driver.find_element(By.CLASS_NAME,\"_3704LK\")\n",
    "search.send_keys(\"Headphone\")\n",
    "\n",
    "search_button=driver.find_element(By.XPATH,'//button[@class=\"L0Z3Pu\"]')\n",
    "search_button.click()"
   ]
  },
  {
   "cell_type": "code",
   "execution_count": 21,
   "id": "f41e96dc",
   "metadata": {},
   "outputs": [],
   "source": [
    "headphone=driver.find_element(By.XPATH,'/html/body/div[1]/div/div[3]/div[1]/div[2]/div[2]/div/div[3]/div/a[2]')\n",
    "headphone.click()"
   ]
  },
  {
   "cell_type": "code",
   "execution_count": 23,
   "id": "ae6aabf2",
   "metadata": {},
   "outputs": [],
   "source": [
    "start=0\n",
    "end=2430\n",
    "\n",
    "p3=[]\n",
    "p3.append('Headphone')\n",
    "p3=p3*2430\n",
    "\n",
    "re3=[]\n",
    "for page in range(0,243):\n",
    "    re3_tag=driver.find_elements(By.XPATH,'//div[@class=\"t-ZTKy\"]')\n",
    "    for i in re3_tag:\n",
    "        re3.append(i.text)\n",
    "    next_button=driver.find_elements(By.XPATH,'/html/body/div[1]/div/div[3]/div/div/div[2]/div[13]/div/div/nav/a[11]/span')\n",
    "\n",
    "ra3=[]\n",
    "for page in range(0,243):\n",
    "    ra3_tag=driver.find_elements(By.XPATH,'//div[@class=\"_3LWZlK _1BLPMq\"]')\n",
    "    for i in ra3_tag:\n",
    "        ra3.append(i.text)\n",
    "    next_button=driver.find_elements(By.XPATH,'/html/body/div[1]/div/div[3]/div/div/div[2]/div[13]/div/div/nav/a[11]/span')"
   ]
  },
  {
   "cell_type": "markdown",
   "id": "de4e652e",
   "metadata": {},
   "source": [
    "                                             Smart watches"
   ]
  },
  {
   "cell_type": "code",
   "execution_count": 30,
   "id": "cadec963",
   "metadata": {},
   "outputs": [],
   "source": [
    "search=driver.find_element(By.CLASS_NAME,\"_3704LK\")\n",
    "search.send_keys(\"Smart watches\")\n",
    "\n",
    "search_button=driver.find_element(By.XPATH,'//button[@class=\"L0Z3Pu\"]')\n",
    "search_button.click()"
   ]
  },
  {
   "cell_type": "code",
   "execution_count": 31,
   "id": "d9eb609d",
   "metadata": {},
   "outputs": [],
   "source": [
    "watch=driver.find_element(By.XPATH,'/html/body/div[1]/div/div[3]/div[1]/div[2]/div[2]/div/div/div/a/div[2]/div[1]/div[1]')\n",
    "watch.click()"
   ]
  },
  {
   "cell_type": "code",
   "execution_count": 32,
   "id": "a59e1ad7",
   "metadata": {},
   "outputs": [],
   "source": [
    "start=0\n",
    "end=310\n",
    "\n",
    "p4=[]\n",
    "p4.append('Smart Watches')\n",
    "p4=p4*3100\n",
    "\n",
    "re4=[]\n",
    "for page in range(0,310):\n",
    "    re4_tag=driver.find_elements(By.XPATH,'//div[@class=\"t-ZTKy\"]')\n",
    "    for i in re4_tag:\n",
    "        re4.append(i.text)\n",
    "    next_button=driver.find_elements(By.XPATH,'/html/body/div[1]/div/div[3]/div/div/div[2]/div[13]/div/div/nav/a[11]/span')\n",
    "\n",
    "ra4=[]\n",
    "for page in range(0,310):\n",
    "    ra4_tag=driver.find_elements(By.XPATH,'//div[@class=\"_3LWZlK _1BLPMq\"]')\n",
    "    for i in ra4_tag:\n",
    "        ra4.append(i.text)\n",
    "    next_button=driver.find_elements(By.XPATH,'/html/body/div[1]/div/div[3]/div/div/div[2]/div[13]/div/div/nav/a[11]/span')"
   ]
  },
  {
   "cell_type": "markdown",
   "id": "134fa22c",
   "metadata": {},
   "source": [
    "                                              Cameras"
   ]
  },
  {
   "cell_type": "code",
   "execution_count": 38,
   "id": "87494799",
   "metadata": {},
   "outputs": [],
   "source": [
    "search=driver.find_element(By.CLASS_NAME,\"_3704LK\")\n",
    "search.send_keys(\"Cameras\")\n",
    "\n",
    "search_button=driver.find_element(By.XPATH,'//button[@class=\"L0Z3Pu\"]')\n",
    "search_button.click()"
   ]
  },
  {
   "cell_type": "code",
   "execution_count": 39,
   "id": "fe1c3303",
   "metadata": {},
   "outputs": [],
   "source": [
    "camera=driver.find_element(By.XPATH,'/html/body/div[1]/div/div[3]/div[1]/div[2]/div[2]/div/div[1]/div/a[2]')\n",
    "camera.click()"
   ]
  },
  {
   "cell_type": "code",
   "execution_count": 40,
   "id": "c80390d1",
   "metadata": {},
   "outputs": [],
   "source": [
    "start=0\n",
    "end=380\n",
    "\n",
    "p5=[]\n",
    "p5.append('Cameras')\n",
    "p5=p5*3800\n",
    "\n",
    "re5=[]\n",
    "for page in range(0,380):\n",
    "    re5_tag=driver.find_elements(By.XPATH,'//div[@class=\"t-ZTKy\"]')\n",
    "    for i in re5_tag:\n",
    "        re5.append(i.text)\n",
    "    next_button=driver.find_elements(By.XPATH,'/html/body/div[1]/div/div[3]/div/div/div[2]/div[13]/div/div/nav/a[11]/span')\n",
    "\n",
    "ra5=[]\n",
    "for page in range(0,380):\n",
    "    ra5_tag=driver.find_elements(By.XPATH,'//div[@class=\"_3LWZlK _1BLPMq\"]')\n",
    "    for i in ra5_tag:\n",
    "        ra5.append(i.text)\n",
    "    next_button=driver.find_elements(By.XPATH,'/html/body/div[1]/div/div[3]/div/div/div[2]/div[13]/div/div/nav/a[11]/span')"
   ]
  },
  {
   "cell_type": "markdown",
   "id": "14abafbd",
   "metadata": {},
   "source": [
    "                                                Printer"
   ]
  },
  {
   "cell_type": "code",
   "execution_count": 47,
   "id": "819ab262",
   "metadata": {},
   "outputs": [],
   "source": [
    "search=driver.find_element(By.CLASS_NAME,\"_3704LK\")\n",
    "search.send_keys(\"Printer\")\n",
    "\n",
    "search_button=driver.find_element(By.XPATH,'//button[@class=\"L0Z3Pu\"]')\n",
    "search_button.click()"
   ]
  },
  {
   "cell_type": "code",
   "execution_count": 48,
   "id": "ca814d7e",
   "metadata": {},
   "outputs": [],
   "source": [
    "printer=driver.find_element(By.XPATH,'/html/body/div/div/div[3]/div[1]/div[2]/div[3]/div/div[3]/div/a[2]')\n",
    "printer.click()"
   ]
  },
  {
   "cell_type": "code",
   "execution_count": 50,
   "id": "3be0ab36",
   "metadata": {},
   "outputs": [],
   "source": [
    "start=0\n",
    "end=350\n",
    "\n",
    "p6=[]\n",
    "p6.append('Printer')\n",
    "p6=p6*3500\n",
    "\n",
    "re6=[]\n",
    "for page in range(0,350):\n",
    "    re6_tag=driver.find_elements(By.XPATH,'//div[@class=\"t-ZTKy\"]')\n",
    "    for i in re6_tag:\n",
    "        re6.append(i.text)\n",
    "    next_button=driver.find_elements(By.XPATH,'/html/body/div[1]/div/div[3]/div/div/div[2]/div[13]/div/div/nav/a[11]/span')\n",
    "\n",
    "ra6=[]\n",
    "for page in range(0,350):\n",
    "    ra6_tag=driver.find_elements(By.XPATH,'//div[@class=\"_3LWZlK _1BLPMq\"]')\n",
    "    for i in ra6_tag:\n",
    "        ra6.append(i.text)\n",
    "    next_button=driver.find_elements(By.XPATH,'/html/body/div[1]/div/div[3]/div/div/div[2]/div[13]/div/div/nav/a[11]/span')"
   ]
  },
  {
   "cell_type": "markdown",
   "id": "ddb1c476",
   "metadata": {},
   "source": [
    "                                                Monitor"
   ]
  },
  {
   "cell_type": "code",
   "execution_count": 56,
   "id": "9f407cd9",
   "metadata": {},
   "outputs": [],
   "source": [
    "search=driver.find_element(By.CLASS_NAME,\"_3704LK\")\n",
    "search.send_keys(\"Monitor\")\n",
    "\n",
    "search_button=driver.find_element(By.XPATH,'//button[@class=\"L0Z3Pu\"]')\n",
    "search_button.click()"
   ]
  },
  {
   "cell_type": "code",
   "execution_count": 57,
   "id": "196a8517",
   "metadata": {},
   "outputs": [],
   "source": [
    "monitor=driver.find_element(By.XPATH,'/html/body/div/div/div[3]/div[1]/div[2]/div[14]/div/div/div/a/div[2]/div[1]/div[1]')\n",
    "monitor.click()"
   ]
  },
  {
   "cell_type": "code",
   "execution_count": 58,
   "id": "eda7c387",
   "metadata": {},
   "outputs": [],
   "source": [
    "start=0\n",
    "end=85\n",
    "\n",
    "p7=[]\n",
    "p7.append('Monitor')\n",
    "p7=p7*850\n",
    "\n",
    "re7=[]\n",
    "for page in range(0,85):\n",
    "    re7_tag=driver.find_elements(By.XPATH,'//div[@class=\"t-ZTKy\"]')\n",
    "    for i in re7_tag:\n",
    "        re7.append(i.text)\n",
    "    next_button=driver.find_elements(By.XPATH,'/html/body/div[1]/div/div[3]/div/div/div[2]/div[13]/div/div/nav/a[11]/span')\n",
    "\n",
    "ra7=[]\n",
    "for page in range(0,85):\n",
    "    ra7_tag=driver.find_elements(By.XPATH,'//div[@class=\"_3LWZlK _1BLPMq\"]')\n",
    "    for i in ra7_tag:\n",
    "        ra7.append(i.text)\n",
    "    next_button=driver.find_elements(By.XPATH,'/html/body/div[1]/div/div[3]/div/div/div[2]/div[13]/div/div/nav/a[11]/span')"
   ]
  },
  {
   "cell_type": "markdown",
   "id": "61a9730f",
   "metadata": {},
   "source": [
    "                                              Home Theater"
   ]
  },
  {
   "cell_type": "code",
   "execution_count": 63,
   "id": "fe29f10c",
   "metadata": {},
   "outputs": [],
   "source": [
    "search=driver.find_element(By.CLASS_NAME,\"_3704LK\")\n",
    "search.send_keys(\"Home Theater\")\n",
    "\n",
    "search_button=driver.find_element(By.XPATH,'//button[@class=\"L0Z3Pu\"]')\n",
    "search_button.click()"
   ]
  },
  {
   "cell_type": "code",
   "execution_count": 64,
   "id": "25aa7056",
   "metadata": {},
   "outputs": [],
   "source": [
    "hometheater=driver.find_element(By.XPATH,'/html/body/div/div/div[3]/div[1]/div[2]/div[2]/div/div[2]/div/a[2]')\n",
    "hometheater.click()"
   ]
  },
  {
   "cell_type": "code",
   "execution_count": 65,
   "id": "f4741181",
   "metadata": {},
   "outputs": [],
   "source": [
    "start=0\n",
    "end=450\n",
    "\n",
    "p8=[]\n",
    "p8.append('Home Theater')\n",
    "p8=p8*4500\n",
    "\n",
    "re8=[]\n",
    "for page in range(0,450):\n",
    "    re8_tag=driver.find_elements(By.XPATH,'//div[@class=\"t-ZTKy\"]')\n",
    "    for i in re8_tag:\n",
    "        re8.append(i.text)\n",
    "    next_button=driver.find_elements(By.XPATH,'/html/body/div[1]/div/div[3]/div/div/div[2]/div[13]/div/div/nav/a[11]/span')\n",
    "\n",
    "ra8=[]\n",
    "for page in range(0,450):\n",
    "    ra8_tag=driver.find_elements(By.XPATH,'//div[@class=\"_3LWZlK _1BLPMq\"]')\n",
    "    for i in ra8_tag:\n",
    "        ra8.append(i.text)\n",
    "    next_button=driver.find_elements(By.XPATH,'/html/body/div[1]/div/div[3]/div/div/div[2]/div[13]/div/div/nav/a[11]/span')"
   ]
  },
  {
   "cell_type": "markdown",
   "id": "078c8388",
   "metadata": {},
   "source": [
    "                                                 Router"
   ]
  },
  {
   "cell_type": "code",
   "execution_count": 72,
   "id": "a1df0ec6",
   "metadata": {},
   "outputs": [],
   "source": [
    "search=driver.find_element(By.CLASS_NAME,\"_3704LK\")\n",
    "search.send_keys(\"Router\")\n",
    "\n",
    "search_button=driver.find_element(By.XPATH,'//button[@class=\"L0Z3Pu\"]')\n",
    "search_button.click()"
   ]
  },
  {
   "cell_type": "code",
   "execution_count": 73,
   "id": "cbea7bef",
   "metadata": {},
   "outputs": [],
   "source": [
    "router=driver.find_element(By.XPATH,'/html/body/div/div/div[3]/div[1]/div[2]/div[2]/div/div[1]/div/a[2]')\n",
    "router.click()"
   ]
  },
  {
   "cell_type": "code",
   "execution_count": 76,
   "id": "2475860e",
   "metadata": {},
   "outputs": [],
   "source": [
    "start=0\n",
    "end=390\n",
    "\n",
    "p9=[]\n",
    "p9.append('Router')\n",
    "p9=p9*3900\n",
    "\n",
    "re9=[]\n",
    "for page in range(0,390):\n",
    "    re9_tag=driver.find_elements(By.XPATH,'//div[@class=\"t-ZTKy\"]')\n",
    "    for i in re9_tag:\n",
    "        re9.append(i.text)\n",
    "    next_button=driver.find_elements(By.XPATH,'/html/body/div[1]/div/div[3]/div/div/div[2]/div[13]/div/div/nav/a[11]/span')\n",
    "\n",
    "ra9=[]\n",
    "for page in range(0,390):\n",
    "    ra9_tag=driver.find_elements(By.XPATH,'//div[@class=\"_3LWZlK _1BLPMq\"]')\n",
    "    for i in ra9_tag:\n",
    "        ra9.append(i.text)\n",
    "    next_button=driver.find_elements(By.XPATH,'/html/body/div[1]/div/div[3]/div/div/div[2]/div[13]/div/div/nav/a[11]/span')"
   ]
  },
  {
   "cell_type": "code",
   "execution_count": 79,
   "id": "b4f8648d",
   "metadata": {},
   "outputs": [],
   "source": [
    "product=p1+p2+p3+p4+p5+p6+p7+p8+p9\n",
    "review=re1+re2+re3+re4+re5+re6+re7+re8+re9\n",
    "rating=ra1+ra2+ra3+ra4+ra5+ra6+ra7+ra8+ra9"
   ]
  },
  {
   "cell_type": "code",
   "execution_count": 80,
   "id": "4cf1392a",
   "metadata": {},
   "outputs": [
    {
     "data": {
      "text/html": [
       "<div>\n",
       "<style scoped>\n",
       "    .dataframe tbody tr th:only-of-type {\n",
       "        vertical-align: middle;\n",
       "    }\n",
       "\n",
       "    .dataframe tbody tr th {\n",
       "        vertical-align: top;\n",
       "    }\n",
       "\n",
       "    .dataframe thead th {\n",
       "        text-align: right;\n",
       "    }\n",
       "</style>\n",
       "<table border=\"1\" class=\"dataframe\">\n",
       "  <thead>\n",
       "    <tr style=\"text-align: right;\">\n",
       "      <th></th>\n",
       "      <th>Products</th>\n",
       "      <th>Reviews</th>\n",
       "      <th>Ratings</th>\n",
       "    </tr>\n",
       "  </thead>\n",
       "  <tbody>\n",
       "    <tr>\n",
       "      <th>0</th>\n",
       "      <td>Phone</td>\n",
       "      <td>This is best budget phone.... Poco C31, and or...</td>\n",
       "      <td>4</td>\n",
       "    </tr>\n",
       "    <tr>\n",
       "      <th>1</th>\n",
       "      <td>Phone</td>\n",
       "      <td>Good product ❤️ but camera quality is low 😌</td>\n",
       "      <td>3</td>\n",
       "    </tr>\n",
       "    <tr>\n",
       "      <th>2</th>\n",
       "      <td>Phone</td>\n",
       "      <td>Review After Using 5 Days:\\n\\n1. SD 750 works ...</td>\n",
       "      <td>3</td>\n",
       "    </tr>\n",
       "    <tr>\n",
       "      <th>3</th>\n",
       "      <td>Phone</td>\n",
       "      <td>Phone is absolutely working well and performan...</td>\n",
       "      <td>5</td>\n",
       "    </tr>\n",
       "    <tr>\n",
       "      <th>4</th>\n",
       "      <td>Phone</td>\n",
       "      <td>Nice phone , camera is not so good as expected...</td>\n",
       "      <td>4</td>\n",
       "    </tr>\n",
       "    <tr>\n",
       "      <th>...</th>\n",
       "      <td>...</td>\n",
       "      <td>...</td>\n",
       "      <td>...</td>\n",
       "    </tr>\n",
       "    <tr>\n",
       "      <th>21733</th>\n",
       "      <td>Router</td>\n",
       "      <td>Router Signal is good but the only problem is ...</td>\n",
       "      <td>4</td>\n",
       "    </tr>\n",
       "    <tr>\n",
       "      <th>21734</th>\n",
       "      <td>Router</td>\n",
       "      <td>Best router good packaging .Range is good for ...</td>\n",
       "      <td>5</td>\n",
       "    </tr>\n",
       "    <tr>\n",
       "      <th>21735</th>\n",
       "      <td>Router</td>\n",
       "      <td>I am using this for wifi extender. Its work pe...</td>\n",
       "      <td>5</td>\n",
       "    </tr>\n",
       "    <tr>\n",
       "      <th>21736</th>\n",
       "      <td>Router</td>\n",
       "      <td>I have bought this product in a hurry since I ...</td>\n",
       "      <td>5</td>\n",
       "    </tr>\n",
       "    <tr>\n",
       "      <th>21737</th>\n",
       "      <td>Router</td>\n",
       "      <td>Great Product Easy to configure ,provides good...</td>\n",
       "      <td>5</td>\n",
       "    </tr>\n",
       "  </tbody>\n",
       "</table>\n",
       "<p>21738 rows × 3 columns</p>\n",
       "</div>"
      ],
      "text/plain": [
       "      Products                                            Reviews Ratings\n",
       "0        Phone  This is best budget phone.... Poco C31, and or...       4\n",
       "1        Phone        Good product ❤️ but camera quality is low 😌       3\n",
       "2        Phone  Review After Using 5 Days:\\n\\n1. SD 750 works ...       3\n",
       "3        Phone  Phone is absolutely working well and performan...       5\n",
       "4        Phone  Nice phone , camera is not so good as expected...       4\n",
       "...        ...                                                ...     ...\n",
       "21733   Router  Router Signal is good but the only problem is ...       4\n",
       "21734   Router  Best router good packaging .Range is good for ...       5\n",
       "21735   Router  I am using this for wifi extender. Its work pe...       5\n",
       "21736   Router  I have bought this product in a hurry since I ...       5\n",
       "21737   Router  Great Product Easy to configure ,provides good...       5\n",
       "\n",
       "[21738 rows x 3 columns]"
      ]
     },
     "execution_count": 80,
     "metadata": {},
     "output_type": "execute_result"
    }
   ],
   "source": [
    "Ratings=pd.DataFrame({'Products':product,'Reviews':review,'Ratings':rating})\n",
    "Ratings"
   ]
  },
  {
   "cell_type": "markdown",
   "id": "3a05fcaf",
   "metadata": {},
   "source": [
    "                                            Save DataFrame in csv form"
   ]
  },
  {
   "cell_type": "code",
   "execution_count": 83,
   "id": "231b2625",
   "metadata": {},
   "outputs": [],
   "source": [
    "Ratings.to_csv('C:\\\\Users\\\\Dell\\\\Desktop\\\\Files\\\\Ratings.csv',index=False)"
   ]
  }
 ],
 "metadata": {
  "kernelspec": {
   "display_name": "Python 3 (ipykernel)",
   "language": "python",
   "name": "python3"
  },
  "language_info": {
   "codemirror_mode": {
    "name": "ipython",
    "version": 3
   },
   "file_extension": ".py",
   "mimetype": "text/x-python",
   "name": "python",
   "nbconvert_exporter": "python",
   "pygments_lexer": "ipython3",
   "version": "3.9.7"
  }
 },
 "nbformat": 4,
 "nbformat_minor": 5
}
